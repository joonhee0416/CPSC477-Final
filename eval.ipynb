{
 "cells": [
  {
   "cell_type": "markdown",
   "id": "3e169c13-48e8-419f-861e-8c3bd36ba907",
   "metadata": {},
   "source": [
    "## CPSC 477 Final Project Part 3: Evaluation"
   ]
  },
  {
   "cell_type": "code",
   "execution_count": 14,
   "id": "0ec6a8f3-e70e-4171-a4e6-e5ce8b2e9bbc",
   "metadata": {},
   "outputs": [],
   "source": [
    "import os\n",
    "import evaluate\n",
    "from util import *\n",
    "from openai import OpenAI\n",
    "from dotenv import load_dotenv\n",
    "env = load_dotenv(override = True)\n",
    "rouge = evaluate.load(\"rouge\")"
   ]
  },
  {
   "cell_type": "code",
   "execution_count": 26,
   "id": "ba2ca684-0be1-4218-949f-ab94ee4775a1",
   "metadata": {},
   "outputs": [
    {
     "name": "stdout",
     "output_type": "stream",
     "text": [
      "50 50\n"
     ]
    }
   ],
   "source": [
    "# Obtained base model inference on test dataset \n",
    "# Took 20 min on V100 (Google Colab)\n",
    "model = \"base_mistral\"\n",
    "\n",
    "test_filenames = os.listdir(f\"inference/{model}\")\n",
    "if \".ipynb_checkpoints\" in test_filenames:\n",
    "    test_filenames.remove(\".ipynb_checkpoints\")\n",
    "\n",
    "candidates = []\n",
    "references = []\n",
    "ects = []\n",
    "for filename in test_filenames:\n",
    "    base_inference = \"\"\n",
    "    gemini_summary = \"\"\n",
    "    ect = \"\"\n",
    "    with open(f\"inference/{model}/{filename}\") as f:\n",
    "        base_inference = f.read()\n",
    "    with open(f\"dataset/test/gemini_summaries/{filename}\") as f:\n",
    "        gemini_summary = f.read()\n",
    "    with open(f\"dataset/test/ects/{filename}\") as f:\n",
    "        ect = f.read()\n",
    "    candidates.append(base_inference)\n",
    "    references.append(gemini_summary)\n",
    "    ects.append(ect)\n",
    "\n",
    "print(len(candidates), len(references))"
   ]
  },
  {
   "cell_type": "code",
   "execution_count": 27,
   "id": "01cc3059-5388-4f8c-ae13-9d544c4d1e99",
   "metadata": {},
   "outputs": [
    {
     "name": "stdout",
     "output_type": "stream",
     "text": [
      "{'rouge1': 0.4499200911067884, 'rouge2': 0.18716517254656978, 'rougeL': 0.26825319469884557, 'rougeLsum': 0.2729071929061325}\n"
     ]
    }
   ],
   "source": [
    "results = rouge.compute(predictions=candidates, references=references)\n",
    "print(results)"
   ]
  },
  {
   "cell_type": "code",
   "execution_count": 13,
   "id": "6a39a3c6-02d5-4112-8d1c-f173b288c238",
   "metadata": {},
   "outputs": [
    {
     "name": "stdout",
     "output_type": "stream",
     "text": [
      "c [(66.0, '%'), (3.71, '$'), (50.0, '%'), (88.0, '$'), (68.0, '%'), (36.0, '%'), (64.0, '%'), (11.7, '%'), (220.0, None), (217.0, '$'), (1.85, '$'), (500.0, '$')]\n",
      "Watsco has delivered an incredible second quarter, achieving new records in virtually every performance metric. Earnings per share jumped 64% to a record $3.71 per share on a 66% increase in net income. Sales grew 36% or nearly $500 million to a record $1.85 billion in sales for the quarter. Gross profits increased 50% with gross margins expanding 220 basis points. Operating income increased $88 million or 68% to $217 million. Operating margins expanded 220 basis points to a record 11.7%. These results are all the more positive when considered against last year's second quarter, which had only a modest impact from the COVID-related slowdowns. Watsco's industry-leading technologies continue to gain traction, and the company believes they are helping them gain market share. Growth rates among active users of their technologies continue to outpace the growth rates of nonusers, and attrition among customers using their technology is meaningfully lower compared to nonusers. The technology enables the company to create stickier customer relationships. More customers are using their digital selling platforms, which help modernize how HV solutions are presented to homeowners. The tools have also benefited the sale of higher efficiency systems, which the company thinks is an important contributor to the climate change discussion. The company's focus remains in the long term, and they believe it is still early in terms of reaching the full potential of their technology investments. Watsco's balance sheet remains in pristine condition with only a small amount of debt. The company has plenty of capacity and even more ambitions to grow their company both organically and through acquisitions.\n",
      "r [(66.0, '%'), (3.71, '$'), (50.0, '%'), (88.0, '$'), (68.0, '%'), (36.0, '%'), (64.0, '%'), (11.7, '%'), (220.0, None), (217.0, '$'), (1.85, '$')]\n",
      "Watsco's second quarter saw exceptional growth, with earnings per share soaring by 64% to a record $3.71, driven by a 66% increase in net income. Sales surged by 36% to an unprecedented $1.85 billion, while gross profits skyrocketed by 50%, expanding gross margins by 220 basis points. Operating income rose by an impressive $88 million or 68% to $217 million, with operating margins reaching a record 11.7%. The company's recent acquisitions, TEC and Acme, performed strongly and added to Watsco's success. The company's industry-leading technologies continue to drive growth, with active users outpacing non-users and attrition rates among users being significantly lower. Watsco's digital selling platforms have also made a positive impact, leading to increased sales of higher efficiency systems. The company's financial position remains solid, with minimal debt and ample capacity for continued growth through both organic initiatives and acquisitions.\n"
     ]
    }
   ],
   "source": [
    "# Summary numbers - precision and recall\n",
    "for i, filename in enumerate(test_filenames):\n",
    "    ect_numbers = extract_numbers(ects[i])\n",
    "    candidate_numbers = extract_numbers(candidates[i])\n",
    "    reference_numbers = extract_numbers(references[i])\n",
    "    # Recall\n",
    "    \\\n",
    "\n",
    "# Transcript numbers - precision and recall"
   ]
  },
  {
   "cell_type": "code",
   "execution_count": null,
   "id": "f13738b7-d6ff-44ae-82e0-32c7bfc68946",
   "metadata": {},
   "outputs": [],
   "source": [
    "# Generate summaries with GPT-3.5\n",
    "client = OpenAI(api_key=os.getenv(\"OPENAI_API_KEY\"))\n",
    "\n",
    "prompt = \"Take this scraped input for a clothing item and list the following in the following format. For fields that you do not find, write N/A.\\nFormat:\\nMaterial: [X]% [Cotton or Organic Cotton or Polyester or Lyocell or Elastane or Polyamide or Elastomultiester], [X]% [Cotton or Organic Cotton or Polyester or Lyocell or Elastane or Polyamide or Elastomultiester or Other]…\\nRecycled Material: [X]%\\nCountry of Origin: [United States or Laos or Vietnam…]\\nCompany: [SHEIN or Amazon or GAP…]\\nClothing Item: [string]\"\n",
    "\n",
    "response = client.chat.completions.create(\n",
    "    model = \"gpt-3.5-turbo\",\n",
    "    messages = [\n",
    "        {\"role\": \"system\", \"content\": \"You are a financial advisor tasked with creating a short summary of an earnings call transcript. You only want to summarize or re-iterate points that would be relevant, critical, or informational to someone who wants to skim over the important details of a long transcript.\"},\n",
    "        {\"role\": \"user\", \"Below is an earnings call transcript. Please summarize this transcript in exactly one paragraph using complete sentences. Keep the summary below 300 words. It is very important that you do not use any titles in the summary. Include relevant information and statistics from the Earnings Call Transcript in your summary.\\n\\nEarnings Call Transcript:\\n{}\"},\n",
    "    ]\n",
    ")\n",
    "print(response)"
   ]
  }
 ],
 "metadata": {
  "kernelspec": {
   "display_name": "Python 3 (ipykernel)",
   "language": "python",
   "name": "python3"
  },
  "language_info": {
   "codemirror_mode": {
    "name": "ipython",
    "version": 3
   },
   "file_extension": ".py",
   "mimetype": "text/x-python",
   "name": "python",
   "nbconvert_exporter": "python",
   "pygments_lexer": "ipython3",
   "version": "3.10.6"
  }
 },
 "nbformat": 4,
 "nbformat_minor": 5
}
