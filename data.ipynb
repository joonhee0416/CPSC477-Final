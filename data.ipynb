{
 "cells": [
  {
   "cell_type": "markdown",
   "id": "d0333cf2-8797-4d46-8158-9ef19812844a",
   "metadata": {},
   "source": [
    "## CPSC 477 Final Project Part 1: Augmenting ECTSum With Gemini\n"
   ]
  },
  {
   "cell_type": "code",
   "execution_count": 6,
   "id": "61b22a3c-3e0c-445c-a4b1-696ddc05b69d",
   "metadata": {},
   "outputs": [],
   "source": [
    "# !pip install google-generativeai\n",
    "import google.generativeai as genai\n",
    "from dotenv import load_dotenv\n",
    "import os\n",
    "env = load_dotenv(override = True)"
   ]
  },
  {
   "cell_type": "code",
   "execution_count": 8,
   "id": "d22458bb-e1a7-4360-9612-7f35069a729f",
   "metadata": {},
   "outputs": [],
   "source": [
    "genai.configure(api_key = os.environ[\"API_KEY\"])\n",
    "model = genai.GenerativeModel(\"gemini-pro\")"
   ]
  },
  {
   "cell_type": "code",
   "execution_count": 10,
   "id": "9632c528-8e24-43dc-9881-013dfec51dd5",
   "metadata": {},
   "outputs": [
    {
     "name": "stdout",
     "output_type": "stream",
     "text": [
      "11329\n",
      "In Q1 2021, Aaron's reported solid financial performance, with an 11.1% increase in revenue to $481.1 million. This growth was driven by strong in-store and online performance. Same-store revenue rose an impressive 14.8%, marking the first double-digit growth since 2009.\n",
      "\n",
      "Aaron's made significant strides in its digital transformation. E-commerce now accounts for over 14% of lease revenues and grew 42% year-over-year, with optimized decision-making and enhanced payment platforms contributing to this success.\n",
      "\n",
      "The company's lease portfolio quality also improved, with a 6.2% growth in size and reduced write-offs. Centralized decisioning and operational enhancements played a crucial role in this improvement.\n",
      "\n",
      "Despite the closure of 166 stores, operational expenses (excluding restructuring costs) saw a modest decline. Adjusted EBITDA surged by 112.9% to $73.9 million, with an improved EBITDA margin of 15.4%.\n",
      "\n",
      "Non-GAAP earnings per share soared by 313.3% to $1.24. The company is optimistic about the future and has revised its full-year outlook. Consolidated revenues are now projected to range from $1.725 billion to $1.775 billion, with adjusted EBITDA expected to be between $190 million and $205 million. Same-store revenue guidance has been revised to a range of 4% to 6%.\n",
      "\n",
      "Aaron's remains committed to its strategic initiatives, including simplifying the customer experience, aligning its store footprint with customer opportunities, and promoting its value proposition of low payments, high approval rates, and excellent service.\n"
     ]
    }
   ],
   "source": [
    "prompt = \"You are a financial advisor tasked with creating a short summary of an earnings call transcript. You only want to summarize or re-iterate points that would be relevant, critical, or informational to someone who wants to skim over the important details of a long transcript.\\n\\nBelow is an earnings call transcript. Please summarize this transcript in one paragraph. Keep the summary below 500 words. Include relevant information from the Earnings Call Transcript in your summary. Furthermore, it is very important that you incorporate all the information from the Key Points and spread it out throughout your summary.\"\n",
    "transcript = \"\"\n",
    "key_points = \"\"\n",
    "\n",
    "with open(\"AAN_q1_2021.txt\") as f:\n",
    "    transcript = f.read().strip()\n",
    "    \n",
    "with open(\"AAN_q1_2021_summary.txt\") as f:\n",
    "    key_points = f.read().strip()\n",
    "    \n",
    "print(len(transcript))\n",
    "\n",
    "response = model.generate_content(f\"{prompt}\\n\\nEarnings Call Transcript:\\n{transcript}\\n\\nKey Points:\\n{key_points}\\n\")\n",
    "print(response.text)"
   ]
  }
 ],
 "metadata": {
  "kernelspec": {
   "display_name": "Python 3 (ipykernel)",
   "language": "python",
   "name": "python3"
  },
  "language_info": {
   "codemirror_mode": {
    "name": "ipython",
    "version": 3
   },
   "file_extension": ".py",
   "mimetype": "text/x-python",
   "name": "python",
   "nbconvert_exporter": "python",
   "pygments_lexer": "ipython3",
   "version": "3.10.6"
  }
 },
 "nbformat": 4,
 "nbformat_minor": 5
}
