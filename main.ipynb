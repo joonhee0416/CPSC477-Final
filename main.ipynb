{
 "cells": [
  {
   "cell_type": "markdown",
   "id": "fc1fa7b2-7ba4-4ea9-9ebb-7ca992a4395d",
   "metadata": {},
   "source": [
    "## CPSC 477 Final Project Part 2: Finetuning Mistral 7B-Instruct on ECTSum\n"
   ]
  },
  {
   "cell_type": "code",
   "execution_count": 3,
   "id": "3a3a948d-44c3-4fed-a1d3-aef01228178d",
   "metadata": {},
   "outputs": [
    {
     "name": "stdout",
     "output_type": "stream",
     "text": [
      "200 50 50\n"
     ]
    }
   ],
   "source": [
    "train_filenames = ['KBH_q2_2021.txt', 'HVT_q2_2021.txt', 'ITT_q3_2020.txt', 'MFA_q3_2020.txt', 'CL_q1_2021.txt', 'MPC_q4_2021.txt', 'SPG_q4_2021.txt', 'CNP_q3_2021.txt', 'SKX_q1_2021.txt', 'WU_q1_2021.txt', 'EXR_q1_2021.txt', 'TUP_q3_2021.txt', 'TTC_q3_2021.txt', 'AVD_q2_2020.txt', 'APH_q2_2021.txt', 'PDM_q4_2021.txt', 'M_q3_2021.txt', 'DXC_q1_2022.txt', 'CNS_q4_2020.txt', 'ENR_q2_2021.txt', 'VSH_q3_2021.txt', 'DKS_q1_2021.txt', 'ABM_q4_2020.txt', 'ELY_q3_2020.txt', 'BR_q3_2021.txt', 'SAH_q1_2021.txt', 'KMI_q2_2021.txt', 'PHM_q3_2021.txt', 'TEN_q3_2021.txt', 'XYL_q1_2021.txt', 'LOW_q4_2021.txt', 'CPF_q2_2021.txt', 'DGX_q3_2021.txt', 'BDN_q3_2021.txt', 'DLB_q4_2020.txt', 'AVA_q2_2021.txt', 'OMI_q2_2021.txt', 'B_q4_2020.txt', 'HP_q1_2021.txt', 'FCN_q3_2020.txt', 'PEG_q2_2021.txt', 'TRI_q4_2021.txt', 'SMP_q3_2020.txt', 'WCN_q2_2021.txt', 'BDX_q3_2021.txt', 'UAA_q4_2021.txt', 'PWR_q3_2021.txt', 'PZN_q3_2020.txt', 'AEO_q1_2021.txt', 'IEX_q1_2021.txt', 'BRO_q3_2020.txt', 'AZO_q1_2022.txt', 'A_q3_2021.txt', 'MTN_q3_2021.txt', 'MTN_q2_2021.txt', 'PPG_q4_2021.txt', 'MAN_q4_2020.txt', 'CHE_q3_2021.txt', 'ALL_q3_2021.txt', 'SIG_q2_2022.txt', 'SIG_q3_2022.txt', 'AVA_q4_2020.txt', 'FCN_q4_2021.txt', 'OMC_q2_2021.txt', 'B_q2_2021.txt', 'KFY_q4_2021.txt', 'RTX_q2_2021.txt', 'WGO_q2_2021.txt', 'WM_q2_2021.txt', 'WFC_q3_2021.txt', 'RSG_q2_2021.txt', 'THG_q3_2020.txt', 'AAP_q2_2021.txt', 'AAP_q3_2021.txt', 'AAN_q1_2021.txt', 'CHE_q2_2020.txt', 'EOG_q2_2021.txt', 'TRI_q3_2021.txt', 'SFE_q4_2019.txt', 'SPB_q2_2021.txt', 'SNX_q2_2021.txt', 'WAT_q1_2021.txt', 'UNF_q4_2021.txt', 'PEG_q4_2020.txt', 'BRO_q4_2020.txt', 'KBH_q4_2021.txt', 'LII_q1_2021.txt', 'CMG_q3_2021.txt', 'GCO_q3_2022.txt', 'WNC_q1_2021.txt', 'VGR_q3_2020.txt', 'EAT_q1_2022.txt', 'TMO_q4_2021.txt', 'JBL_q2_2022.txt', 'CNS_q2_2021.txt', 'G_q3_2021.txt', 'EW_q4_2021.txt', 'AME_q3_2020.txt', 'AME_q2_2021.txt', 'AYI_q4_2021.txt', 'BC_q1_2021.txt', 'FLR_q1_2021.txt', 'APH_q4_2020.txt', 'OXM_q1_2021.txt', 'CLH_q4_2020.txt', 'NFG_q3_2020.txt', 'PII_q2_2021.txt', 'CTS_q2_2021.txt', 'PEG_q1_2021.txt', 'WEC_q2_2021.txt', 'WEC_q3_2021.txt', 'ZTS_q1_2021.txt', 'PKG_q2_2021.txt', 'HBI_q2_2020.txt', 'WWW_q1_2021.txt', 'WAT_q4_2020.txt', 'GTY_q4_2020.txt', 'PPL_q2_2021.txt', 'PKG_q2_2020.txt', 'TNC_q4_2020.txt', 'AEO_q3_2021.txt', 'RPM_q4_2021.txt', 'HUM_q3_2021.txt', 'SWI_q3_2021.txt', 'MTZ_q4_2020.txt', 'SYK_q4_2020.txt', 'FCN_q1_2021.txt', 'TOL_q3_2021.txt', 'CMA_q1_2021.txt', 'VMI_q3_2021.txt', 'SKT_q3_2021.txt', 'MAS_q3_2021.txt', 'MAS_q2_2021.txt', 'POR_q1_2021.txt', 'YUM_q2_2021.txt', 'UNF_q1_2022.txt', 'BHE_q2_2020.txt', 'RS_q1_2021.txt', 'LW_q2_2021.txt', 'TDY_q3_2021.txt', 'WSM_q4_2021.txt', 'FLR_q4_2020.txt', 'CIR_q4_2020.txt', 'ABC_q3_2021.txt', 'RPT_q3_2021.txt', 'DRI_q2_2021.txt', 'DRI_q3_2021.txt', 'RWT_q3_2021.txt', 'WSO_q1_2021.txt', 'FR_q4_2019.txt', 'CBT_q4_2021.txt', 'HZO_q4_2021.txt', 'MFA_q1_2020.txt', 'HCA_q1_2021.txt', 'IDA_q4_2019.txt', 'CUZ_q3_2021.txt', 'CF_q4_2020.txt', 'CL_q2_2021.txt', 'FMC_q1_2021.txt', 'NX_q1_2022.txt', 'AAT_q3_2021.txt', 'OGE_q1_2021.txt', 'RHI_q1_2021.txt', 'BC_q2_2021.txt', 'ANF_q2_2021.txt', 'MSI_q2_2021.txt', 'CIM_q2_2020.txt', 'WWE_q4_2020.txt', 'VZ_q3_2021.txt', 'WSR_q3_2021.txt', 'SXT_q3_2020.txt', 'PBI_q2_2021.txt', 'EMR_q2_2021.txt', 'KRG_q3_2021.txt', 'JLL_q2_2021.txt', 'HII_q2_2021.txt', 'DG_q1_2021.txt', 'JCI_q1_2022.txt', 'BMI_q1_2021.txt', 'CHH_q3_2021.txt', 'OI_q2_2021.txt', 'IEX_q4_2020.txt', 'MAN_q1_2021.txt', 'IDA_q3_2021.txt', 'GTY_q3_2021.txt', 'DBD_q4_2019.txt', 'DOV_q1_2021.txt', 'DIS_q1_2022.txt', 'KO_q1_2021.txt', 'PPL_q4_2021.txt', 'TRV_q1_2021.txt', 'PRA_q2_2021.txt', 'WAB_q3_2021.txt', 'MED_q3_2021.txt', 'CHD_q3_2020.txt', 'SUN_q4_2020.txt', 'SKT_q4_2020.txt', 'FUL_q1_2021.txt', 'AN_q4_2021.txt', 'FE_q1_2021.txt']\n",
    "val_filenames = ['CNS_q4_2021.txt', 'AIR_q2_2021.txt', 'AIR_q3_2021.txt', 'RS_q3_2020.txt', 'FN_q1_2020.txt', 'MDC_q3_2020.txt', 'ROG_q1_2021.txt', 'COO_q2_2021.txt', 'USB_q3_2021.txt', 'DLB_q2_2021.txt', 'MAN_q3_2021.txt', 'FTV_q3_2020.txt', 'UPS_q3_2021.txt', 'RGR_q3_2021.txt', 'MPC_q2_2021.txt', 'SJW_q1_2021.txt', 'MSI_q1_2021.txt', 'RS_q4_2020.txt', 'TXT_q4_2020.txt', 'WST_q2_2020.txt', 'COO_q1_2022.txt', 'CTS_q3_2020.txt', 'NSC_q3_2021.txt', 'MYE_q3_2021.txt', 'MMC_q3_2021.txt', 'NWN_q4_2020.txt', 'SSD_q4_2020.txt', 'NSP_q3_2020.txt', 'WOR_q1_2022.txt', 'SNV_q3_2020.txt', 'CBT_q4_2020.txt', 'CPT_q3_2021.txt', 'EXR_q3_2021.txt', 'LCI_q4_2021.txt', 'FLR_q2_2021.txt', 'OXM_q3_2021.txt', 'WHG_q1_2020.txt', 'EMR_q3_2021.txt', 'FSS_q1_2021.txt', 'CL_q4_2020.txt', 'SIX_q1_2021.txt', 'IPG_q2_2021.txt', 'AFG_q3_2021.txt', 'TFX_q2_2020.txt', 'ROL_q1_2021.txt', 'GHM_q3_2022.txt', 'NJR_q1_2021.txt', 'BG_q1_2021.txt', 'TFX_q3_2021.txt', 'ABM_q1_2021.txt']\n",
    "test_filenames = ['WSO_q2_2021.txt', 'ITT_q2_2021.txt', 'SEM_q4_2021.txt', 'ITW_q4_2021.txt', 'EW_q2_2021.txt', 'VSH_q2_2021.txt', 'FE_q4_2020.txt', 'CLX_q4_2021.txt', 'HRL_q2_2021.txt', 'KFY_q2_2022.txt', 'GES_q2_2022.txt', 'FE_q3_2020.txt', 'NNN_q1_2021.txt', 'TRV_q3_2021.txt', 'LAZ_q2_2021.txt', 'HZO_q1_2021.txt', 'FSS_q2_2021.txt', 'HII_q1_2021.txt', 'NWN_q1_2021.txt', 'AVD_q4_2020.txt', 'SCL_q4_2020.txt', 'AAN_q4_2020.txt', 'NNN_q4_2020.txt', 'BAH_q3_2022.txt', 'FDP_q3_2020.txt', 'DNB_q2_2021.txt', 'BHE_q3_2020.txt', 'SCI_q4_2020.txt', 'MMS_q4_2021.txt', 'NX_q1_2021.txt', 'LPX_q1_2021.txt', 'AIR_q1_2022.txt', 'JLL_q4_2021.txt', 'S_q3_2022.txt', 'DRI_q2_2022.txt', 'WU_q3_2021.txt', 'JBL_q1_2022.txt', 'MAC_q3_2020.txt', 'MSI_q3_2021.txt', 'OXM_q2_2021.txt', 'DNB_q4_2020.txt', 'GHM_q2_2021.txt', 'TNC_q3_2021.txt', 'GHL_q1_2021.txt', 'UNM_q2_2021.txt', 'KWR_q1_2020.txt', 'CLX_q1_2021.txt', 'NI_q3_2021.txt', 'SYK_q3_2021.txt', 'HXL_q1_2021.txt']\n",
    "# Earnings call transcripts:\n",
    "#   - Train: data/final/train/ects/[filename]\n",
    "#   - Val: data/final/val/ects/[filename]\n",
    "#   - Test: data/final/test/ects/[filename]\n",
    "# Gemini summaries:\n",
    "#   - Train: data/final/train/gemini_summaries/[filename]\n",
    "#   - Val: data/final/val/gemini_summaries/[filename]\n",
    "#   - Test: data/final/test/gemini_summaries/[filename]\n",
    "print(len(train_filenames), len(val_filenames), len(test_filenames))"
   ]
  }
 ],
 "metadata": {
  "kernelspec": {
   "display_name": "Python 3 (ipykernel)",
   "language": "python",
   "name": "python3"
  },
  "language_info": {
   "codemirror_mode": {
    "name": "ipython",
    "version": 3
   },
   "file_extension": ".py",
   "mimetype": "text/x-python",
   "name": "python",
   "nbconvert_exporter": "python",
   "pygments_lexer": "ipython3",
   "version": "3.10.6"
  }
 },
 "nbformat": 4,
 "nbformat_minor": 5
}
