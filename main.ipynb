{
 "cells": [
  {
   "cell_type": "markdown",
   "id": "fc1fa7b2-7ba4-4ea9-9ebb-7ca992a4395d",
   "metadata": {},
   "source": [
    "## CPSC 477 Final Project Part 2: Finetuning Mistral 7B-Instruct on ECTSum\n"
   ]
  },
  {
   "cell_type": "code",
   "execution_count": 6,
   "id": "f59083aa-8c6d-477e-949a-b3e640be929c",
   "metadata": {},
   "outputs": [],
   "source": [
    "import os"
   ]
  },
  {
   "cell_type": "code",
   "execution_count": 22,
   "id": "3a3a948d-44c3-4fed-a1d3-aef01228178d",
   "metadata": {},
   "outputs": [
    {
     "name": "stdout",
     "output_type": "stream",
     "text": [
      "200 50 50\n"
     ]
    }
   ],
   "source": [
    "train_filenames = os.listdir(\"dataset/train/gemini_summaries\")\n",
    "val_filenames = os.listdir(\"dataset/val/gemini_summaries\")\n",
    "test_filenames = os.listdir(\"dataset/test/gemini_summaries\")\n",
    "for filenames in [train_filenames, val_filenames, test_filenames]:\n",
    "    if \".ipynb_checkpoints\" in filenames:        \n",
    "        filenames.remove(\".ipynb_checkpoints\")\n",
    "# Earnings call transcripts:\n",
    "#   - Train: dataset/train/ects/[filename]\n",
    "#   - Val: dataset/val/ects/[filename]\n",
    "#   - Test: dataset/test/ects/[filename]\n",
    "# Gemini summaries:\n",
    "#   - Train: dataset/train/gemini_summaries/[filename]\n",
    "#   - Val: dataset/val/gemini_summaries/[filename]\n",
    "#   - Test: dataset/test/gemini_summaries/[filename]\n",
    "print(len(train_filenames), len(val_filenames), len(test_filenames))"
   ]
  }
 ],
 "metadata": {
  "kernelspec": {
   "display_name": "Python 3 (ipykernel)",
   "language": "python",
   "name": "python3"
  },
  "language_info": {
   "codemirror_mode": {
    "name": "ipython",
    "version": 3
   },
   "file_extension": ".py",
   "mimetype": "text/x-python",
   "name": "python",
   "nbconvert_exporter": "python",
   "pygments_lexer": "ipython3",
   "version": "3.10.6"
  }
 },
 "nbformat": 4,
 "nbformat_minor": 5
}
