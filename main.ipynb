{
 "cells": [
  {
   "cell_type": "markdown",
   "id": "fc1fa7b2-7ba4-4ea9-9ebb-7ca992a4395d",
   "metadata": {},
   "source": [
    "## CPSC 477 Final Project Part 2: Finetuning Mistral 7B-Instruct on ECTSum\n"
   ]
  }
 ],
 "metadata": {
  "kernelspec": {
   "display_name": "Python 3 (ipykernel)",
   "language": "python",
   "name": "python3"
  },
  "language_info": {
   "codemirror_mode": {
    "name": "ipython",
    "version": 3
   },
   "file_extension": ".py",
   "mimetype": "text/x-python",
   "name": "python",
   "nbconvert_exporter": "python",
   "pygments_lexer": "ipython3",
   "version": "3.10.6"
  }
 },
 "nbformat": 4,
 "nbformat_minor": 5
}
